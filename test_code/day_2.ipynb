{
 "cells": [
  {
   "cell_type": "code",
   "execution_count": 1,
   "metadata": {},
   "outputs": [],
   "source": [
    "import numpy as np\n",
    "import tensorflow as tf\n",
    "tf.enable_eager_execution()"
   ]
  },
  {
   "cell_type": "code",
   "execution_count": 2,
   "metadata": {},
   "outputs": [],
   "source": [
    "X = np.array([1, 2, 3])\n",
    "Y = np.array([1, 2, 3])"
   ]
  },
  {
   "cell_type": "code",
   "execution_count": 6,
   "metadata": {},
   "outputs": [],
   "source": [
    "def cost_func(W, X, Y):\n",
    "    hypothesis = W * X\n",
    "    return tf.reduce_mean(tf.square(hypothesis - Y))"
   ]
  },
  {
   "cell_type": "code",
   "execution_count": 7,
   "metadata": {},
   "outputs": [],
   "source": [
    "W_values = np.linspace(-3, 5, num= 15)\n",
    "cost_values = []"
   ]
  },
  {
   "cell_type": "code",
   "execution_count": 8,
   "metadata": {},
   "outputs": [
    {
     "name": "stdout",
     "output_type": "stream",
     "text": [
      "-3.000 |   74.66667\n",
      "-2.429 |   54.85714\n",
      "-1.857 |   38.09524\n",
      "-1.286 |   24.38095\n",
      "-0.714 |   13.71429\n",
      "-0.143 |    6.09524\n",
      " 0.429 |    1.52381\n",
      " 1.000 |    0.00000\n",
      " 1.571 |    1.52381\n",
      " 2.143 |    6.09524\n",
      " 2.714 |   13.71429\n",
      " 3.286 |   24.38095\n",
      " 3.857 |   38.09524\n",
      " 4.429 |   54.85714\n",
      " 5.000 |   74.66667\n"
     ]
    }
   ],
   "source": [
    "for feed_W in W_values:\n",
    "    curr_cost = cost_func(feed_W, X, Y)\n",
    "    cost_values.append(curr_cost)\n",
    "    print(\"{:6.3f} | {:10.5f}\".format(feed_W, curr_cost))"
   ]
  },
  {
   "cell_type": "markdown",
   "metadata": {},
   "source": [
    "##### Gradient Descent"
   ]
  },
  {
   "cell_type": "code",
   "execution_count": 11,
   "metadata": {},
   "outputs": [],
   "source": [
    "tf.set_random_seed(0)"
   ]
  },
  {
   "cell_type": "code",
   "execution_count": 13,
   "metadata": {},
   "outputs": [],
   "source": [
    "x_data = [1., 2., 3., 4.]\n",
    "y_data = [1., 3., 5., 7.]"
   ]
  },
  {
   "cell_type": "code",
   "execution_count": 14,
   "metadata": {},
   "outputs": [],
   "source": [
    "W = tf.Variable(tf.random_normal([1], -100., 100.))"
   ]
  },
  {
   "cell_type": "code",
   "execution_count": 22,
   "metadata": {},
   "outputs": [
    {
     "name": "stdout",
     "output_type": "stream",
     "text": [
      "    0 |     0.0000 |   1.000027\n",
      "   10 |     0.0000 |   1.000017\n",
      "   20 |     0.0000 |   1.000010\n",
      "   30 |     0.0000 |   1.000006\n",
      "   40 |     0.0000 |   1.000004\n",
      "   50 |     0.0000 |   1.000003\n",
      "   60 |     0.0000 |   1.000001\n",
      "   70 |     0.0000 |   1.000001\n",
      "   80 |     0.0000 |   1.000001\n",
      "   90 |     0.0000 |   1.000001\n",
      "  100 |     0.0000 |   1.000001\n",
      "  110 |     0.0000 |   1.000001\n",
      "  120 |     0.0000 |   1.000001\n",
      "  130 |     0.0000 |   1.000001\n",
      "  140 |     0.0000 |   1.000001\n",
      "  150 |     0.0000 |   1.000001\n",
      "  160 |     0.0000 |   1.000001\n",
      "  170 |     0.0000 |   1.000001\n",
      "  180 |     0.0000 |   1.000001\n",
      "  190 |     0.0000 |   1.000001\n",
      "  200 |     0.0000 |   1.000001\n",
      "  210 |     0.0000 |   1.000001\n",
      "  220 |     0.0000 |   1.000001\n",
      "  230 |     0.0000 |   1.000001\n",
      "  240 |     0.0000 |   1.000001\n",
      "  250 |     0.0000 |   1.000001\n",
      "  260 |     0.0000 |   1.000001\n",
      "  270 |     0.0000 |   1.000001\n",
      "  280 |     0.0000 |   1.000001\n",
      "  290 |     0.0000 |   1.000001\n"
     ]
    }
   ],
   "source": [
    "for step in range(300):\n",
    "    hypothesis = W * X\n",
    "    cost = tf.reduce_mean(tf.square(hypothesis - Y))\n",
    "    \n",
    "    alpha = 0.01\n",
    "    gradient = tf.reduce_mean(tf.multiply(tf.multiply(W, X) - Y, X))\n",
    "    descent = W - tf.multiply(alpha, gradient)\n",
    "    W.assign(descent)\n",
    "    \n",
    "    if step % 10 == 0:\n",
    "        print('{:5} | {:10.4f} | {:10.6f}'.format(step, cost.numpy(), W.numpy()[0]))"
   ]
  }
 ],
 "metadata": {
  "kernelspec": {
   "display_name": "Python 3",
   "language": "python",
   "name": "python3"
  },
  "language_info": {
   "codemirror_mode": {
    "name": "ipython",
    "version": 3
   },
   "file_extension": ".py",
   "mimetype": "text/x-python",
   "name": "python",
   "nbconvert_exporter": "python",
   "pygments_lexer": "ipython3",
   "version": "3.6.8"
  }
 },
 "nbformat": 4,
 "nbformat_minor": 2
}
